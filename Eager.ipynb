{
 "cells": [
  {
   "cell_type": "code",
   "execution_count": 1,
   "metadata": {},
   "outputs": [
    {
     "name": "stderr",
     "output_type": "stream",
     "text": [
      "/home/yatindandi/.virtualenvs/virtual-py3/lib/python3.5/site-packages/h5py/__init__.py:36: FutureWarning: Conversion of the second argument of issubdtype from `float` to `np.floating` is deprecated. In future, it will be treated as `np.float64 == np.dtype(float).type`.\n",
      "  from ._conv import register_converters as _register_converters\n"
     ]
    }
   ],
   "source": [
    "import tensorflow as tf\n",
    "import numpy as np\n",
    "import tensorflow.contrib.eager as tfe\n",
    "tfe.enable_eager_execution()"
   ]
  },
  {
   "cell_type": "code",
   "execution_count": 2,
   "metadata": {},
   "outputs": [
    {
     "name": "stdout",
     "output_type": "stream",
     "text": [
      "WARNING:tensorflow:From <ipython-input-2-8bf8ae5a5303>:2: read_data_sets (from tensorflow.contrib.learn.python.learn.datasets.mnist) is deprecated and will be removed in a future version.\n",
      "Instructions for updating:\n",
      "Please use alternatives such as official/mnist/dataset.py from tensorflow/models.\n",
      "WARNING:tensorflow:From /home/yatindandi/.virtualenvs/virtual-py3/lib/python3.5/site-packages/tensorflow/contrib/learn/python/learn/datasets/mnist.py:260: maybe_download (from tensorflow.contrib.learn.python.learn.datasets.base) is deprecated and will be removed in a future version.\n",
      "Instructions for updating:\n",
      "Please write your own downloading logic.\n",
      "WARNING:tensorflow:From /home/yatindandi/.virtualenvs/virtual-py3/lib/python3.5/site-packages/tensorflow/contrib/learn/python/learn/datasets/mnist.py:262: extract_images (from tensorflow.contrib.learn.python.learn.datasets.mnist) is deprecated and will be removed in a future version.\n",
      "Instructions for updating:\n",
      "Please use tf.data to implement this functionality.\n",
      "Extracting MNIST_data/train-images-idx3-ubyte.gz\n",
      "WARNING:tensorflow:From /home/yatindandi/.virtualenvs/virtual-py3/lib/python3.5/site-packages/tensorflow/contrib/learn/python/learn/datasets/mnist.py:267: extract_labels (from tensorflow.contrib.learn.python.learn.datasets.mnist) is deprecated and will be removed in a future version.\n",
      "Instructions for updating:\n",
      "Please use tf.data to implement this functionality.\n",
      "Extracting MNIST_data/train-labels-idx1-ubyte.gz\n",
      "WARNING:tensorflow:From /home/yatindandi/.virtualenvs/virtual-py3/lib/python3.5/site-packages/tensorflow/contrib/learn/python/learn/datasets/mnist.py:110: dense_to_one_hot (from tensorflow.contrib.learn.python.learn.datasets.mnist) is deprecated and will be removed in a future version.\n",
      "Instructions for updating:\n",
      "Please use tf.one_hot on tensors.\n",
      "Extracting MNIST_data/t10k-images-idx3-ubyte.gz\n",
      "Extracting MNIST_data/t10k-labels-idx1-ubyte.gz\n",
      "WARNING:tensorflow:From /home/yatindandi/.virtualenvs/virtual-py3/lib/python3.5/site-packages/tensorflow/contrib/learn/python/learn/datasets/mnist.py:290: DataSet.__init__ (from tensorflow.contrib.learn.python.learn.datasets.mnist) is deprecated and will be removed in a future version.\n",
      "Instructions for updating:\n",
      "Please use alternatives such as official/mnist/dataset.py from tensorflow/models.\n"
     ]
    }
   ],
   "source": [
    "from tensorflow.examples.tutorials.mnist import input_data\n",
    "mnist = input_data.read_data_sets(\"MNIST_data/\", one_hot=True)"
   ]
  },
  {
   "cell_type": "code",
   "execution_count": 34,
   "metadata": {},
   "outputs": [],
   "source": [
    "conv1= tf.layers.Conv2D(32, 5, activation = tf.nn.relu) \n",
    "pool1 = tf.layers.MaxPooling2D(2, 2)\n",
    "conv2 = tf.layers.Conv2D(64, 5, activation = tf.nn.relu) \n",
    "pool2 = tf.layers.MaxPooling2D(2, 2) \n",
    "flat = tf.layers.Flatten() \n",
    "dense1= tf.layers.Dense(1024, activation = tf.nn.relu) \n",
    "dropout = tf.layers.Dropout(0.4) \n",
    "dense2= tf.layers.Dense(10, activation = None)\n",
    "Accuracy = tfe.metrics.Accuracy()"
   ]
  },
  {
   "cell_type": "code",
   "execution_count": 35,
   "metadata": {},
   "outputs": [],
   "source": [
    "def lossfn(features, labels,i):\n",
    "    features=tf.constant(features)\n",
    "    x = conv1(features)\n",
    "    x = pool1(x)\n",
    "    x = conv2(x)\n",
    "    x = pool2(x)\n",
    "    x = flat(x)\n",
    "    x = dense1(x)\n",
    "    x = dropout(x)\n",
    "    logits = dense2(x)\n",
    "    #accuracy=Accuracy(tf.argmax(logits,axis=1, output_type=tf.int32),labels)              \n",
    "    loss = tf.nn.softmax_cross_entropy_with_logits(labels = labels, logits = logits)\n",
    "    loss = tf.reduce_mean(loss)\n",
    "    if i % 50 == 0:\n",
    "        print(\"step {:03d}: loss: {:.3}\".format(i,loss))\n",
    "    return loss\n"
   ]
  },
  {
   "cell_type": "code",
   "execution_count": 36,
   "metadata": {},
   "outputs": [],
   "source": [
    "optimizer = tf.train.AdamOptimizer(learning_rate=0.001)\n"
   ]
  },
  {
   "cell_type": "code",
   "execution_count": 37,
   "metadata": {},
   "outputs": [
    {
     "name": "stdout",
     "output_type": "stream",
     "text": [
      "step 000: loss: 2.3\n",
      "step 050: loss: 0.375\n",
      "step 100: loss: 0.0798\n",
      "step 150: loss: 0.118\n",
      "step 200: loss: 0.0697\n",
      "step 250: loss: 0.144\n",
      "step 300: loss: 0.161\n",
      "step 350: loss: 0.0588\n",
      "step 400: loss: 0.0415\n",
      "step 450: loss: 0.0594\n",
      "step 500: loss: 0.118\n",
      "step 550: loss: 0.0279\n",
      "step 600: loss: 0.048\n",
      "step 650: loss: 0.013\n",
      "step 700: loss: 0.0477\n",
      "step 750: loss: 0.00951\n",
      "step 800: loss: 0.022\n",
      "step 850: loss: 0.0113\n",
      "step 900: loss: 0.0777\n",
      "step 950: loss: 0.0501\n"
     ]
    }
   ],
   "source": [
    "for i in range(1000):\n",
    "    features,labels = mnist.train.next_batch(100)\n",
    "    features = features.reshape([-1,28,28,1])\n",
    "    optimizer.minimize(lambda: lossfn(features,labels,i))"
   ]
  },
  {
   "cell_type": "code",
   "execution_count": null,
   "metadata": {},
   "outputs": [],
   "source": []
  }
 ],
 "metadata": {
  "kernelspec": {
   "display_name": "Python 3",
   "language": "python",
   "name": "python3"
  },
  "language_info": {
   "codemirror_mode": {
    "name": "ipython",
    "version": 3
   },
   "file_extension": ".py",
   "mimetype": "text/x-python",
   "name": "python",
   "nbconvert_exporter": "python",
   "pygments_lexer": "ipython3",
   "version": "3.5.2"
  }
 },
 "nbformat": 4,
 "nbformat_minor": 2
}
